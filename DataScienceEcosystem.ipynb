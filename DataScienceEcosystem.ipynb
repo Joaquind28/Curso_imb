{
 "cells": [
  {
   "cell_type": "markdown",
   "id": "476ccb2e-dace-475a-af8e-0224269260ef",
   "metadata": {},
   "source": [
    "Ejercicio 2: Crear una celda de markdown con el título del cuaderno"
   ]
  },
  {
   "cell_type": "markdown",
   "id": "5981ad70-bb79-4eb5-822a-c570f5b44750",
   "metadata": {},
   "source": [
    "# Data Science Tools and Ecosystem"
   ]
  },
  {
   "cell_type": "markdown",
   "id": "ca1229b4-2789-4c6e-9029-862b406081dc",
   "metadata": {},
   "source": [
    "### Ejercicio 3 - Crear una celda de markdown para una introducción"
   ]
  },
  {
   "cell_type": "markdown",
   "id": "cbb77ad9-44de-4d79-a03f-703f370e28c7",
   "metadata": {},
   "source": [
    "En este cuaderno, se resumen las herramientas y ecosistemas de ciencia de datos."
   ]
  },
  {
   "cell_type": "markdown",
   "id": "1574a60c-b3b6-42a2-83ee-e5a6c9b450da",
   "metadata": {},
   "source": [
    "### Ejercicio 4 - Crear una celda de markdown para listar lenguajes de ciencia de datos"
   ]
  },
  {
   "cell_type": "markdown",
   "id": "4181aedc-9dd4-4b2f-88fb-43cb64629f3e",
   "metadata": {},
   "source": [
    "Algunos de los lenguajes populares que utilizan los científicos de datos son:\n",
    "\n",
    "1. Python\n",
    "2. R\n",
    "3. SQL"
   ]
  },
  {
   "cell_type": "markdown",
   "id": "2e17a4b9-3ced-4f13-9a33-91f94da31cb0",
   "metadata": {},
   "source": [
    "### Ejercicio 5 - Crear una celda de markdown para listar bibliotecas de ciencia de datos"
   ]
  },
  {
   "cell_type": "markdown",
   "id": "170a09b4-b90c-4c34-8091-a96ce828d1fe",
   "metadata": {},
   "source": [
    "Algunas de las bibliotecas comúnmente utilizadas por los científicos de datos incluyen:\n",
    "\n",
    "1. Pandas\n",
    "2. Scikit-learn\n",
    "3. TensorFlow"
   ]
  },
  {
   "cell_type": "markdown",
   "id": "70d218b4-9676-4362-9be5-b4b13b294a2a",
   "metadata": {},
   "source": [
    "### Ejercicio 6 - Crear una celda de markdown con una tabla de herramientas de ciencia de datos"
   ]
  },
  {
   "cell_type": "markdown",
   "id": "55d20c35-b639-4297-b84d-455d8333fe55",
   "metadata": {},
   "source": [
    "|Herramientas de Ciencia de Datos |\n",
    "|----------------------------------|\n",
    "|VS Code|\n",
    "|Jupyter Notebook|\n",
    "|Apache Spark|\n"
   ]
  },
  {
   "cell_type": "markdown",
   "id": "cdd18c9f-4dbe-4d28-bc9c-a130f3aad827",
   "metadata": {},
   "source": [
    "### Ejercicio 7 - Crear una celda de markdown introduciendo ejemplos de expresiones aritméticas"
   ]
  },
  {
   "cell_type": "markdown",
   "id": "b61f61cd-29b0-4b96-b403-d07cb474b7f6",
   "metadata": {},
   "source": [
    "### A continuación, se presentan algunos ejemplos de evaluación de expresiones aritméticas en Python"
   ]
  },
  {
   "cell_type": "markdown",
   "id": "a7e6ae13-28de-4e4e-b5c3-1e7cfec50eff",
   "metadata": {},
   "source": [
    "### Ejercicio 8 - Crear una celda de código para multiplicar y sumar números"
   ]
  },
  {
   "cell_type": "code",
   "execution_count": 8,
   "id": "b01813f1-e597-499f-bb62-a49dfaadf4c6",
   "metadata": {},
   "outputs": [
    {
     "data": {
      "text/plain": [
       "17"
      ]
     },
     "execution_count": 8,
     "metadata": {},
     "output_type": "execute_result"
    }
   ],
   "source": [
    "#Esta es una expresión aritmética simple para multiplicar y luego sumar enteros\n",
    "(3*4)+5"
   ]
  },
  {
   "cell_type": "markdown",
   "id": "0b47cb05-6660-45dd-9e34-935def1ff6cf",
   "metadata": {},
   "source": [
    "### Ejercicio 9 - Crear una celda de código para convertir minutos a horas"
   ]
  },
  {
   "cell_type": "code",
   "execution_count": 11,
   "id": "91c8dd12-39cd-4432-8f3f-1400f1d41d97",
   "metadata": {},
   "outputs": [
    {
     "data": {
      "text/plain": [
       "3.3333333333333335"
      ]
     },
     "execution_count": 11,
     "metadata": {},
     "output_type": "execute_result"
    }
   ],
   "source": [
    "#Esto convertirá 200 minutos a horas dividiendo por 60\n",
    "\n",
    "200/60"
   ]
  },
  {
   "cell_type": "markdown",
   "id": "508c9f82-c0a1-4298-ac62-e480f3804f27",
   "metadata": {},
   "source": [
    "### Ejercicio 10 - Insertar una celda de markdown para listar Objetivos"
   ]
  },
  {
   "cell_type": "markdown",
   "id": "9bd61c64-2c26-42d5-94f4-5baf7f1dc376",
   "metadata": {},
   "source": [
    "**Objetivos:**\n",
    "- Listar lenguajes populares para Ciencia de Datos\n",
    "- Listar Herramientas de Ciencia de Datos\n",
    "- Listar Bibliotecas populares para Ciencia de Datos"
   ]
  },
  {
   "cell_type": "markdown",
   "id": "30d81863-e375-4571-9962-fc93fd2da459",
   "metadata": {},
   "source": [
    "### Ejercicio 11 - Crear una celda de markdown para indicar el nombre del autor"
   ]
  },
  {
   "cell_type": "markdown",
   "id": "ceb1cc91-28f6-4bb4-bf82-2b924ce74398",
   "metadata": {},
   "source": [
    "## Autor\n",
    "\n",
    "Cesar Joaquin Delgado Diaz"
   ]
  },
  {
   "cell_type": "code",
   "execution_count": null,
   "id": "3364ae4f-e121-46bb-a3b8-4d44e8c1d5ab",
   "metadata": {},
   "outputs": [],
   "source": []
  }
 ],
 "metadata": {
  "kernelspec": {
   "display_name": "Python 3 (ipykernel)",
   "language": "python",
   "name": "python3"
  },
  "language_info": {
   "codemirror_mode": {
    "name": "ipython",
    "version": 3
   },
   "file_extension": ".py",
   "mimetype": "text/x-python",
   "name": "python",
   "nbconvert_exporter": "python",
   "pygments_lexer": "ipython3",
   "version": "3.12.8"
  }
 },
 "nbformat": 4,
 "nbformat_minor": 5
}
